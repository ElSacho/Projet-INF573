{
 "cells": [
  {
   "cell_type": "code",
   "execution_count": 32,
   "metadata": {},
   "outputs": [],
   "source": [
    "import numpy as np\n",
    "import cv2\n",
    "import math"
   ]
  },
  {
   "cell_type": "code",
   "execution_count": 33,
   "metadata": {},
   "outputs": [
    {
     "name": "stdout",
     "output_type": "stream",
     "text": [
      "2\n",
      "1\n",
      "2\n",
      "3\n",
      "2\n",
      "2\n",
      "1\n",
      "1\n",
      "4\n",
      "2\n",
      "1\n",
      "2\n",
      "1\n",
      "1\n",
      "3\n",
      "2\n",
      "2\n",
      "1\n",
      "2\n",
      "2\n",
      "2\n",
      "1\n"
     ]
    },
    {
     "ename": "KeyboardInterrupt",
     "evalue": "",
     "output_type": "error",
     "traceback": [
      "\u001b[0;31m---------------------------------------------------------------------------\u001b[0m",
      "\u001b[0;31mKeyboardInterrupt\u001b[0m                         Traceback (most recent call last)",
      "Cell \u001b[0;32mIn [33], line 105\u001b[0m\n\u001b[1;32m    101\u001b[0m     \u001b[39mbreak\u001b[39;00m\n\u001b[1;32m    103\u001b[0m image \u001b[39m=\u001b[39m cv2\u001b[39m.\u001b[39mflip(image, \u001b[39m1\u001b[39m)\n\u001b[0;32m--> 105\u001b[0m cv2\u001b[39m.\u001b[39;49mimshow(\u001b[39m\"\u001b[39;49m\u001b[39mGesture\u001b[39;49m\u001b[39m\"\u001b[39;49m, image)\n\u001b[1;32m    106\u001b[0m all_image \u001b[39m=\u001b[39m np\u001b[39m.\u001b[39mhstack((drawing, crop_image))\n\u001b[1;32m    107\u001b[0m cv2\u001b[39m.\u001b[39mimshow(\u001b[39m\"\u001b[39m\u001b[39mContours\u001b[39m\u001b[39m\"\u001b[39m, all_image)\n",
      "\u001b[0;31mKeyboardInterrupt\u001b[0m: "
     ]
    },
    {
     "ename": "",
     "evalue": "",
     "output_type": "error",
     "traceback": [
      "\u001b[1;31mLe Kernel s’est bloqué lors de l’exécution du code dans la cellule active ou une cellule précédente. Veuillez vérifier le code dans la ou les cellules pour identifier une cause possible de l’échec. Cliquez <a href='https://aka.ms/vscodeJupyterKernelCrash'>ici</a> pour plus d’informations. Pour plus d’informations, consultez Jupyter <a href='command:jupyter.viewOutput'>log</a>."
     ]
    }
   ],
   "source": [
    "webcam = cv2.VideoCapture(0)\n",
    "\n",
    "while webcam.isOpened():\n",
    "    \n",
    "    ret, image = webcam.read()\n",
    "    \n",
    "    cv2.rectangle(image, (100,100),(300,300),(0,255,0),0)\n",
    "    crop_image = image[100:300, 100:300]\n",
    "    \n",
    "    gaussian = cv2.GaussianBlur(crop_image, (3,3),0)\n",
    "    \n",
    "    hsv = cv2.cvtColor(gaussian, cv2.COLOR_BGR2HSV)\n",
    "    \n",
    "    mask1= cv2.inRange(hsv, np.array([2,0,0]), np.array([20,255,255]))\n",
    "    \n",
    "    kernel = np.ones((5,5))\n",
    "    \n",
    "    dilation = cv2.dilate(mask1, kernel, iterations = 1)\n",
    "    erosion = cv2.erode(dilation, kernel, iterations = 1)\n",
    "    \n",
    "    filtered = cv2.GaussianBlur(erosion, (3,3), 0)\n",
    "    ret, thresh = cv2.threshold(filtered, 127, 255, 0)\n",
    "    #thresh = cv2.flip(thresh, 1)\n",
    "    cv2.imshow(\"Thresholed\", thresh)\n",
    "    \n",
    "    temp = cv2.findContours(thresh, cv2.RETR_TREE, cv2.CHAIN_APPROX_SIMPLE)\n",
    "    \n",
    "    #print(temp[1])\n",
    "    \n",
    "    contours, _ = cv2.findContours(thresh, cv2.RETR_TREE, cv2.CHAIN_APPROX_SIMPLE)    \n",
    "    \n",
    "    try :\n",
    "        # On detecte le contour le plus grand, celui qui a le plus de chance d'être le contour de la main\n",
    "        contour = max(contours, key = lambda x: cv2.contourArea(x))\n",
    "        \n",
    "        # On recupere un rectacle qui englobe toute notre structure (x,y) coordonnees \n",
    "        # et (w,h) width et heigh du rectangle\n",
    "        x,y,w,h = cv2.boundingRect(contour)\n",
    "        cv2.rectangle(crop_image, (x,y),(x+w,h+y),(0,0,255),0)\n",
    "        \n",
    "        # On englobe le contour de la main dans une enveloppe convexe composée de segments\n",
    "        hull = cv2.convexHull(contour)\n",
    "        drawing = np.zeros(crop_image.shape, np.uint8)\n",
    "        cv2.drawContours(drawing, [contour], -1,(0,255,0),0)\n",
    "        cv2.drawContours(drawing, [hull], -1,(0,255,0),0)\n",
    "        \n",
    "        # Detecter la difference avec returnPoints\n",
    "        hull = cv2.convexHull(contour, returnPoints = False)\n",
    "        \n",
    "        # On recupere les points qui caracterisent cette enveloppe pour notre contour\n",
    "        defects = cv2.convexityDefects(contour, hull)\n",
    "        count_defects = 0\n",
    "        \n",
    "        for i in range(defects.shape[0]):\n",
    "            s,e,f,d = defects[i,0]\n",
    "            \n",
    "            # start : debut du segment\n",
    "            start =tuple(contour[s][0])\n",
    "            # end : fin du segment\n",
    "            end =tuple(contour[e][0])\n",
    "            # far : point du contour le plus eloigné du milieu du segment\n",
    "            far =tuple(contour[f][0])\n",
    "            \n",
    "            # longeur du segment\n",
    "            a = math.sqrt((end[0]-start[0])**2 +(end[1]-start[1])**2 )\n",
    "            #distance entre le point le plus eloigne et a\n",
    "            b = math.sqrt((far[0]-start[0])**2 +(far[1]-start[1])**2 )\n",
    "            #distance entre le point le plus eloigne et b\n",
    "            c = math.sqrt((far[0]-end[0])**2 +(far[1]-end[1])**2 )\n",
    "            \n",
    "            angle = math.acos((b**2 + c**2 - a**2)/(2*b*c))\n",
    "            if angle <=90 and b>=20:\n",
    "                count_defects+=1\n",
    "                cv2.circle(crop_image, far, 1,[0,0,255],-1)\n",
    "            cv2.line(crop_image,start,end,[0,255,0],2)\n",
    "            \n",
    "        print(count_defects)\n",
    "        if count_defects ==0:\n",
    "            cv2.putText(image, \"HELLO\", (50,50), cv2.FONT_HERSHEY_SIMPLEX,2,2)\n",
    "        if count_defects ==1:\n",
    "            cv2.putText(image, \"TWO\", (50,50), cv2.FONT_HERSHEY_SIMPLEX,2,2)\n",
    "        if count_defects ==2:\n",
    "            cv2.putText(image, \"THREE\", (50,50), cv2.FONT_HERSHEY_SIMPLEX,2,2)\n",
    "        if count_defects ==3:\n",
    "            cv2.putText(image, \"FOUR\", (50,50), cv2.FONT_HERSHEY_SIMPLEX,2,2)\n",
    "        if count_defects ==4:\n",
    "            cv2.putText(image, \"FIVE\", (50,50), cv2.FONT_HERSHEY_SIMPLEX,2,2)\n",
    "        else :\n",
    "            cv2.putText(image, \" \", (50,50), cv2.FONT_HERSHEY_SIMPLEX,2,2)\n",
    "            pass\n",
    "            \n",
    "        \"\"\"\"\"\"\n",
    "    except :\n",
    "        print('pass')\n",
    "        pass\n",
    "    \n",
    "    #cv2.imshow(\"test hsv\" ,image)\n",
    "    # cv2.imshow(\"test hsv\" ,hsv)\n",
    "\n",
    "    if cv2.waitKey(1) == ord('a'):\n",
    "        break\n",
    "    \n",
    "    image = cv2.flip(image, 1)\n",
    "\n",
    "    cv2.imshow(\"Gesture\", image)\n",
    "    all_image = np.hstack((drawing, crop_image))\n",
    "    cv2.imshow(\"Contours\", all_image)\n",
    "    \n",
    "webcam.release()\n",
    "cv2.destroyAllWindows()"
   ]
  },
  {
   "cell_type": "markdown",
   "metadata": {},
   "source": []
  },
  {
   "cell_type": "markdown",
   "metadata": {},
   "source": []
  },
  {
   "cell_type": "code",
   "execution_count": null,
   "metadata": {},
   "outputs": [],
   "source": []
  },
  {
   "cell_type": "code",
   "execution_count": null,
   "metadata": {},
   "outputs": [],
   "source": []
  }
 ],
 "metadata": {
  "kernelspec": {
   "display_name": "Python 3.8.5 ('env': venv)",
   "language": "python",
   "name": "python3"
  },
  "language_info": {
   "codemirror_mode": {
    "name": "ipython",
    "version": 3
   },
   "file_extension": ".py",
   "mimetype": "text/x-python",
   "name": "python",
   "nbconvert_exporter": "python",
   "pygments_lexer": "ipython3",
   "version": "3.8.5 (default, Sep  4 2020, 02:22:02) \n[Clang 10.0.0 ]"
  },
  "orig_nbformat": 4,
  "vscode": {
   "interpreter": {
    "hash": "ad1610e911abc3fc1e7b4286a6d845a90715c7bd49c9200d0a7e72dc3d0d8ea9"
   }
  }
 },
 "nbformat": 4,
 "nbformat_minor": 2
}
